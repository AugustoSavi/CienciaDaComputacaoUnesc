{
  "nbformat": 4,
  "nbformat_minor": 0,
  "metadata": {
    "colab": {
      "name": "Sistema Especialista.ipynb",
      "provenance": [],
      "authorship_tag": "ABX9TyOXeBn1ToyTFUVeYIf6Z8B3",
      "include_colab_link": true
    },
    "kernelspec": {
      "name": "python3",
      "display_name": "Python 3"
    },
    "language_info": {
      "name": "python"
    }
  },
  "cells": [
    {
      "cell_type": "markdown",
      "metadata": {
        "id": "view-in-github",
        "colab_type": "text"
      },
      "source": [
        "<a href=\"https://colab.research.google.com/github/AugustoSavi/CienciaDaComputacaoUnesc/blob/master/Sistema_Especialista.ipynb\" target=\"_parent\"><img src=\"https://colab.research.google.com/assets/colab-badge.svg\" alt=\"Open In Colab\"/></a>"
      ]
    },
    {
      "cell_type": "markdown",
      "metadata": {
        "id": "HxFpOoeDXV80"
      },
      "source": [
        "# **Trabalho de Sistema especialista de Inteligencia Artificial**\n",
        "\n",
        "\n",
        "## **Como usar?**\n",
        "  - Para executa o comando: ```ctrl+f9``` ou no canto superior da tela em ```Ambiente de execução > Executar tudo```\n",
        "\n",
        "- Ou basta clicar na celula e executar o comando ```ctrl+enter``` ou no canto superior direito da celula clique no botão de play (nesse caso lembre-se de sempre executar a primeira celula pois ela carrega as libs e funções usadas em todo o projeto)\n",
        "\n",
        "\n",
        "  ***Depois responda as perguntas no input com s(sim) ou n(não)*** \n"
      ]
    },
    {
      "cell_type": "code",
      "metadata": {
        "colab": {
          "base_uri": "https://localhost:8080/"
        },
        "id": "8C3A1KFgK-_P",
        "outputId": "e4bee1f4-3659-4d0a-b932-5a8154d7a6b1"
      },
      "source": [
        "class Diagnostico():\n",
        "\t# metodo construtor\n",
        "\tdef __init__(self):\n",
        "\t\tself.resultado = ['cansado', 'estressado', 'deprimido', 'faminto','saudavel']\n",
        "\t\tself.pessoa = []\n",
        "\t\tself.db = []\n",
        "\t\t# abre o arquivo db.txt em modo leitura e passa os dados para uma lista de listas de string\n",
        "\t\tarquivo = open('db.txt','r')\n",
        "\t\tfor linha in arquivo:\n",
        "\t\t\tif linha[len(linha) - 1] == '\\n':\n",
        "\t\t\t\tlinha = linha.replace(\"\\n\", \"\")\n",
        "\t\t\t\t(self.db).append(linha.split('-'))\n",
        "\t\tarquivo.close()\n",
        "\n",
        "\t# imprime a quantidade de possibilidades cadastradas\n",
        "\tdef tamanho(self):\n",
        "\t\tprint(len(self.resultado))\n",
        "\n",
        "\t# imprime a probabilidade do diagnótico\n",
        "\tdef probabilidade(self):\n",
        "\t\tprobabilidade = 0\n",
        "\t\ttry: \n",
        "\t\t\treturn (int((1/int(len(self.resultado)))*100))\n",
        "\t\texcept ZeroDivisionError:\n",
        "\t\t\treturn 0\n",
        "\n",
        "\n",
        "\t# verifica se diagnóstico pensado tem a caracteristica passada por parametro\n",
        "\tdef busca(self, familiar, caract):\t\n",
        "\t\tfor i in range(len(self.db)):\n",
        "\t\t\tif familiar == self.db[i][1]:\n",
        "\t\t\t\tif self.db[i][0] == caract:\n",
        "\t\t\t\t\treturn True\n",
        "\t\treturn False\t\t\t\t\n",
        "\n",
        "\t# remove os diagnósticos que não possuem o atributo passado por parametro\n",
        "\tdef excluiQuemNaoE(self, atributo):\n",
        "\t\tlista = []\n",
        "\t\tcount = 0\n",
        "\t\tfor i in range(len(self.resultado)):\n",
        "\t\t\tif not self.busca(self.resultado[i], atributo):\n",
        "\t\t\t\tlista.append(self.resultado[i])\n",
        "\t\t\t\tcount = count + 1\n",
        "\t\tfor i in range(count):\n",
        "\t\t\tself.resultado.remove(lista[i])\n",
        "\t\n",
        "\t# remove os diagnosticos que possuem o atributo passado por parametro\n",
        "\tdef excluiQuemE(self, atributo):\n",
        "\t\tlista = []\n",
        "\t\tcount = 0\n",
        "\t\tfor i in range(len(self.resultado)):\n",
        "\t\t\tif self.busca(self.resultado[i], atributo):\n",
        "\t\t\t\tlista.append(self.resultado[i])\n",
        "\t\t\t\tcount = count + 1\n",
        "\t\tfor i in range(count):\n",
        "\t\t\tself.resultado.remove(lista[i])\n",
        "\t\t\n",
        "\tdef pergunta(self,pergunta,caract):\n",
        "\t\tresposta = input(pergunta+'(s/n) : ')\n",
        "\t\tif resposta.upper() == 'S':\n",
        "\t\t\tself.excluiQuemNaoE(caract)\n",
        "\t\telif resposta.upper() == 'N':\n",
        "\t\t\tself.excluiQuemE(caract)\n",
        "\n",
        "\n",
        "\n",
        "from random import *\n",
        "class Pergunta:\n",
        "\tdef __init__(self):\n",
        "\t\tself.level = [\n",
        "\t\t['Seu Pet está agitado?','agitado'],\n",
        "\t\t['O seu Pet está comendo bem?','alimentado'],\n",
        "\t\t['O ambiente é adequado?','ambiente_adequado'],\n",
        "\t\t['O seu Pet fez atividade física?','se_movimenta'],\t\t\n",
        "\t\t]\n",
        "\n",
        "\tdef texto(self):\n",
        "\t\tstring = self.level[0]\n",
        "\t\tdel self.level[0]\n",
        "\t\treturn string\n",
        "\n",
        "\n",
        "try:\n",
        "  print('--- Inicio ---\\n')\n",
        "  sistemaEspecialista = Diagnostico()\n",
        "  pergunta = Pergunta()\n",
        "  while sistemaEspecialista.probabilidade() != 100:\n",
        "    string = pergunta.texto()\n",
        "    sistemaEspecialista.pergunta(string[0],string[1])\n",
        "    if sistemaEspecialista.probabilidade() == 100:\n",
        "      print('\\nO seu Pet está: {0} \\n'.format(sistemaEspecialista.resultado[0]))\n",
        "except:\n",
        "  print('Não consegui identificar o estado do seu pet')\n",
        "\n"
      ],
      "execution_count": 11,
      "outputs": [
        {
          "output_type": "stream",
          "name": "stdout",
          "text": [
            "--- Inicio ---\n",
            "\n",
            "Seu Pet está agitado?(s/n) : s\n",
            "O seu Pet está comendo bem?(s/n) : n\n",
            "\n",
            "O seu Pet está: faminto \n",
            "\n"
          ]
        }
      ]
    }
  ]
}