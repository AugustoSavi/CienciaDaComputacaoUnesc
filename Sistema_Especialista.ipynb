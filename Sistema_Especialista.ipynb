{
  "nbformat": 4,
  "nbformat_minor": 0,
  "metadata": {
    "colab": {
      "name": "Sistema Especialista.ipynb",
      "provenance": [],
      "authorship_tag": "ABX9TyPqXP4yUYlnV4jb2fjDnton",
      "include_colab_link": true
    },
    "kernelspec": {
      "name": "python3",
      "display_name": "Python 3"
    },
    "language_info": {
      "name": "python"
    }
  },
  "cells": [
    {
      "cell_type": "markdown",
      "metadata": {
        "id": "view-in-github",
        "colab_type": "text"
      },
      "source": [
        "<a href=\"https://colab.research.google.com/github/AugustoSavi/CienciaDaComputacaoUnesc/blob/master/Sistema_Especialista.ipynb\" target=\"_parent\"><img src=\"https://colab.research.google.com/assets/colab-badge.svg\" alt=\"Open In Colab\"/></a>"
      ]
    },
    {
      "cell_type": "code",
      "metadata": {
        "colab": {
          "base_uri": "https://localhost:8080/"
        },
        "id": "8C3A1KFgK-_P",
        "outputId": "26b02b13-e735-4e7d-9f5e-cea6e51a980b"
      },
      "source": [
        "class Diagnostico():\n",
        "\t# metodo construtor\n",
        "\tdef __init__(self):\n",
        "\t\tself.resultado = ['cansado', 'estressado', 'deprimido', 'faminto','saudavel']\n",
        "\t\tself.pessoa = []\n",
        "\t\tself.db = []\n",
        "\t\t# abre o arquivo db.txt em modo leitura e passa os dados para uma lista de listas de string\n",
        "\t\tarquivo = open('db.txt','r')\n",
        "\t\tfor linha in arquivo:\n",
        "\t\t\tif linha[len(linha) - 1] == '\\n':\n",
        "\t\t\t\tlinha = linha.replace(\"\\n\", \"\")\n",
        "\t\t\t\t(self.db).append(linha.split('-'))\n",
        "\t\tarquivo.close()\n",
        "\n",
        "\t# imprime a quantidade de possibilidades cadastradas\n",
        "\tdef tamanho(self):\n",
        "\t\tprint(len(self.resultado))\n",
        "\n",
        "\t# imprime a probabilidade do diagnótico\n",
        "\tdef probabilidade(self):\n",
        "\t\treturn (int((1/int(len(self.resultado)))*100))\n",
        "\n",
        "\n",
        "\t# verifica se diagnóstico pensado tem a caracteristica passada por parametro\n",
        "\tdef busca(self, familiar, caract):\t\n",
        "\t\tfor i in range(len(self.db)):\n",
        "\t\t\tif familiar == self.db[i][1]:\n",
        "\t\t\t\tif self.db[i][0] == caract:\n",
        "\t\t\t\t\treturn True\n",
        "\t\treturn False\t\t\t\t\n",
        "\n",
        "\t# remove os diagnósticos que não possuem o atributo passado por parametro\n",
        "\tdef excluiQuemNaoE(self, atributo):\n",
        "\t\tlista = []\n",
        "\t\tcount = 0\n",
        "\t\tfor i in range(len(self.resultado)):\n",
        "\t\t\tif not self.busca(self.resultado[i], atributo):\n",
        "\t\t\t\tlista.append(self.resultado[i])\n",
        "\t\t\t\tcount = count + 1\n",
        "\t\tfor i in range(count):\n",
        "\t\t\tself.resultado.remove(lista[i])\n",
        "\t\n",
        "\t# remove os diagnosticos que possuem o atributo passado por parametro\n",
        "\tdef excluiQuemE(self, atributo):\n",
        "\t\tlista = []\n",
        "\t\tcount = 0\n",
        "\t\tfor i in range(len(self.resultado)):\n",
        "\t\t\tif self.busca(self.resultado[i], atributo):\n",
        "\t\t\t\tlista.append(self.resultado[i])\n",
        "\t\t\t\tcount = count + 1\n",
        "\t\tfor i in range(count):\n",
        "\t\t\tself.resultado.remove(lista[i])\n",
        "\t\t\n",
        "\tdef pergunta(self,pergunta,caract):\n",
        "\t\tresposta = input(pergunta+': ')\n",
        "\t\tif resposta.upper() == 'S':\n",
        "\t\t\tself.excluiQuemNaoE(caract)\n",
        "\t\telif resposta.upper() == 'N':\n",
        "\t\t\tself.excluiQuemE(caract)\n",
        "\n",
        "\n",
        "\n",
        "from random import *\n",
        "class Pergunta:\n",
        "\tdef __init__(self):\n",
        "\t\tself.level = [\n",
        "\t\t['Seu Pet está agitado?','agitado'],\n",
        "\t\t['O seu Pet está comendo bem?','alimentado'],\n",
        "\t\t['O ambiente é adequado?','ambiente_adequado'],\n",
        "\t\t['O seu Pet fez atividade física?','se_movimenta'],\t\t\n",
        "\t\t]\n",
        "\n",
        "\tdef texto(self):\n",
        "\t\tstring = self.level[0]\n",
        "\t\tdel self.level[0]\n",
        "\t\treturn string\n",
        "\n",
        "\n",
        "#Inferência\n",
        "sistemaEspecialista = Diagnostico()\n",
        "pergunta = Pergunta()\n",
        "\n",
        "\n",
        "while sistemaEspecialista.probabilidade() != 100:\n",
        "\tstring = pergunta.texto()\n",
        "\tsistemaEspecialista.pergunta(string[0],string[1])\n",
        "\tif sistemaEspecialista.probabilidade() == 100:\n",
        "\t\tprint('O seu Pet está: ',sistemaEspecialista.resultado[0])"
      ],
      "execution_count": 22,
      "outputs": [
        {
          "output_type": "stream",
          "name": "stdout",
          "text": [
            "Seu Pet está agitado?: s\n",
            "O seu Pet está comendo bem?: s\n",
            "O ambiente é adequado?: s\n",
            "O seu Pet está:  saudavel\n"
          ]
        }
      ]
    }
  ]
}